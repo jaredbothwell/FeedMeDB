{
 "cells": [
  {
   "cell_type": "markdown",
   "metadata": {},
   "source": [
    "# Load Ingredients"
   ]
  },
  {
   "cell_type": "code",
   "execution_count": 21,
   "metadata": {},
   "outputs": [
    {
     "data": {
      "text/html": [
       "<div>\n",
       "<style scoped>\n",
       "    .dataframe tbody tr th:only-of-type {\n",
       "        vertical-align: middle;\n",
       "    }\n",
       "\n",
       "    .dataframe tbody tr th {\n",
       "        vertical-align: top;\n",
       "    }\n",
       "\n",
       "    .dataframe thead th {\n",
       "        text-align: right;\n",
       "    }\n",
       "</style>\n",
       "<table border=\"1\" class=\"dataframe\">\n",
       "  <thead>\n",
       "    <tr style=\"text-align: right;\">\n",
       "      <th></th>\n",
       "      <th>Name</th>\n",
       "    </tr>\n",
       "  </thead>\n",
       "  <tbody>\n",
       "    <tr>\n",
       "      <th>0</th>\n",
       "      <td>firmly packed brown sugar</td>\n",
       "    </tr>\n",
       "    <tr>\n",
       "      <th>1</th>\n",
       "      <td>butter or margarine</td>\n",
       "    </tr>\n",
       "    <tr>\n",
       "      <th>2</th>\n",
       "      <td>bite size shredded rice biscuits</td>\n",
       "    </tr>\n",
       "    <tr>\n",
       "      <th>3</th>\n",
       "      <td>frozen corn</td>\n",
       "    </tr>\n",
       "    <tr>\n",
       "      <th>4</th>\n",
       "      <td>cream cheese</td>\n",
       "    </tr>\n",
       "    <tr>\n",
       "      <th>...</th>\n",
       "      <td>...</td>\n",
       "    </tr>\n",
       "    <tr>\n",
       "      <th>496</th>\n",
       "      <td>sliced yellow squash</td>\n",
       "    </tr>\n",
       "    <tr>\n",
       "      <th>497</th>\n",
       "      <td>stuffing mix</td>\n",
       "    </tr>\n",
       "    <tr>\n",
       "      <th>498</th>\n",
       "      <td>ice cold water</td>\n",
       "    </tr>\n",
       "    <tr>\n",
       "      <th>499</th>\n",
       "      <td>sour milk</td>\n",
       "    </tr>\n",
       "    <tr>\n",
       "      <th>500</th>\n",
       "      <td>cooking apples</td>\n",
       "    </tr>\n",
       "  </tbody>\n",
       "</table>\n",
       "<p>501 rows × 1 columns</p>\n",
       "</div>"
      ],
      "text/plain": [
       "                                 Name\n",
       "0           firmly packed brown sugar\n",
       "1                 butter or margarine\n",
       "2    bite size shredded rice biscuits\n",
       "3                         frozen corn\n",
       "4                        cream cheese\n",
       "..                                ...\n",
       "496              sliced yellow squash\n",
       "497                      stuffing mix\n",
       "498                    ice cold water\n",
       "499                         sour milk\n",
       "500                    cooking apples\n",
       "\n",
       "[501 rows x 1 columns]"
      ]
     },
     "execution_count": 21,
     "metadata": {},
     "output_type": "execute_result"
    }
   ],
   "source": [
    "# Load Ingredients\n",
    "import pandas as pd\n",
    "# insert data from csv file into dataframe.\n",
    "# working directory for csv file: type \"pwd\" in Azure Data Studio or Linux\n",
    "# working directory in Windows c:\\users\\username\n",
    "df = pd.read_csv(\"./DataSets/ingredientList.csv\")\n",
    "df"
   ]
  },
  {
   "cell_type": "code",
   "execution_count": 22,
   "metadata": {},
   "outputs": [],
   "source": [
    "import pymssql\n",
    "cursor.close()\n",
    "cnxn.close()"
   ]
  },
  {
   "cell_type": "code",
   "execution_count": 23,
   "metadata": {},
   "outputs": [],
   "source": [
    "# Some other texample server values are\n",
    "# server = 'localhost\\sqlexpress' # for a named instance\n",
    "# server = 'myserver,port' # to specify an alternate port\n",
    "\n",
    "#cnxn = pymssql.connect(server='localhost', user='sa', password='bigStrongPwd1107@', database='CIS560Project')\n",
    "cnxn = pymssql.connect(server='cis560team3.database.windows.net', user='SQLMan', password='BigB@dRecipeB00k', database='CIS560Project')\n",
    "cursor = cnxn.cursor(as_dict=True)\n",
    "# Insert Dataframe into SQL Server:\n",
    "for index, row in df.iterrows():\n",
    "     cursor.execute(\"INSERT INTO Data.Ingredient (Name) values(%s)\", row.Name)\n",
    "cnxn.commit()\n",
    "cursor.close()"
   ]
  },
  {
   "cell_type": "markdown",
   "metadata": {},
   "source": [
    "# Load Recipes"
   ]
  },
  {
   "cell_type": "code",
   "execution_count": 24,
   "metadata": {},
   "outputs": [],
   "source": [
    "df = pd.read_csv('./DataSets/RecipeImport.csv')\n",
    "df = df.dropna()\n"
   ]
  },
  {
   "cell_type": "code",
   "execution_count": 25,
   "metadata": {},
   "outputs": [],
   "source": [
    "#import pymssql\n",
    "cnxn = pymssql.connect(server='cis560team3.database.windows.net', user='SQLMan', password='BigB@dRecipeB00k', database='CIS560Project')\n",
    "cursor = cnxn.cursor(as_dict=True)\n",
    "for index, row in df.iterrows():\n",
    "     #print(row)\n",
    "     cursor.execute(\"INSERT INTO Data.Recipe (Name,CreatedUserID,PrepTime,Difficulty,Directions) values(%s,1,20,1,%s)\", (row.title,row.directions))\n",
    "cnxn.commit()\n",
    "cursor.close()\n",
    "cnxn.close()"
   ]
  },
  {
   "cell_type": "markdown",
   "metadata": {},
   "source": [
    "# Load Measurement Units"
   ]
  },
  {
   "cell_type": "code",
   "execution_count": 26,
   "metadata": {},
   "outputs": [],
   "source": [
    "cnxn = pymssql.connect(server='cis560team3.database.windows.net', user='SQLMan', password='BigB@dRecipeB00k', database='CIS560Project')\n",
    "cursor = cnxn.cursor(as_dict=True)\n",
    "df = pd.read_csv('./DataSets/MeasurementUnits.csv')\n",
    "df = df.dropna()\n",
    "for index, row in df.iterrows():\n",
    "     #print(row)\n",
    "     cursor.execute(\"INSERT INTO Data.MeasurementUnit (Name) values(%s)\", (row.Unit))\n",
    "     #print(row)\n",
    "cnxn.commit()\n",
    "cursor.close()\n",
    "cnxn.close()"
   ]
  },
  {
   "cell_type": "markdown",
   "metadata": {},
   "source": [
    "# Load Recipe Ingredients"
   ]
  },
  {
   "cell_type": "code",
   "execution_count": 47,
   "metadata": {},
   "outputs": [],
   "source": [
    "#Used to parse ingredients to be input into RecipeIngredientDB\n",
    "ingMeas = pd.read_csv('./DataSets/ConvertedRecipeIngredients.csv')\n",
    "output = []\n",
    "\n",
    "for x,i in ingMeas.iterrows():\n",
    "    recipeID = i[0]\n",
    "    quantity = i[1]\n",
    "    unit = i[2]\n",
    "    ingredient = i[3]\n",
    "    output.append([recipeID,quantity,unit,ingredient])\n",
    "    #print(recipeID,quantity,unit,ingredient)\n",
    "df = pd.DataFrame(output)\n",
    "#print(df)\n",
    "cnxn = pymssql.connect(server='cis560team3.database.windows.net', user='SQLMan', password='BigB@dRecipeB00k', database='CIS560Project')\n",
    "cursor = cnxn.cursor(as_dict=True)\n",
    "# Insert Dataframe into SQL Server:\n",
    "for index, row in df.iterrows():\n",
    "    cursor.execute(\"EXECUTE Data.InsertRecipeIngredientWithID %d,%s,%s,%d\", (row[0],row[3],row[2],row[1]))\n",
    "cnxn.commit()\n",
    "cursor.close()"
   ]
  },
  {
   "cell_type": "code",
   "execution_count": null,
   "metadata": {},
   "outputs": [],
   "source": []
  }
 ],
 "metadata": {
  "interpreter": {
   "hash": "835220090dcda9fa2d737a9f9c22fd07e0ee0ef8d0b63f42f083ad5c2158b613"
  },
  "kernelspec": {
   "display_name": "Python 3.9.12 ('base')",
   "language": "python",
   "name": "python3"
  },
  "language_info": {
   "codemirror_mode": {
    "name": "ipython",
    "version": 3
   },
   "file_extension": ".py",
   "mimetype": "text/x-python",
   "name": "python",
   "nbconvert_exporter": "python",
   "pygments_lexer": "ipython3",
   "version": "3.9.12"
  },
  "orig_nbformat": 4
 },
 "nbformat": 4,
 "nbformat_minor": 2
}
