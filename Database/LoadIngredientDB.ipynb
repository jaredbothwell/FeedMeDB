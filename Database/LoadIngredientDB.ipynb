{
 "cells": [
  {
   "cell_type": "code",
   "execution_count": 1,
   "metadata": {},
   "outputs": [
    {
     "data": {
      "text/html": [
       "<div>\n",
       "<style scoped>\n",
       "    .dataframe tbody tr th:only-of-type {\n",
       "        vertical-align: middle;\n",
       "    }\n",
       "\n",
       "    .dataframe tbody tr th {\n",
       "        vertical-align: top;\n",
       "    }\n",
       "\n",
       "    .dataframe thead th {\n",
       "        text-align: right;\n",
       "    }\n",
       "</style>\n",
       "<table border=\"1\" class=\"dataframe\">\n",
       "  <thead>\n",
       "    <tr style=\"text-align: right;\">\n",
       "      <th></th>\n",
       "      <th>Name</th>\n",
       "    </tr>\n",
       "  </thead>\n",
       "  <tbody>\n",
       "    <tr>\n",
       "      <th>0</th>\n",
       "      <td>brown sugar</td>\n",
       "    </tr>\n",
       "    <tr>\n",
       "      <th>1</th>\n",
       "      <td>milk</td>\n",
       "    </tr>\n",
       "    <tr>\n",
       "      <th>2</th>\n",
       "      <td>vanilla</td>\n",
       "    </tr>\n",
       "    <tr>\n",
       "      <th>3</th>\n",
       "      <td>nuts</td>\n",
       "    </tr>\n",
       "    <tr>\n",
       "      <th>4</th>\n",
       "      <td>butter</td>\n",
       "    </tr>\n",
       "    <tr>\n",
       "      <th>...</th>\n",
       "      <td>...</td>\n",
       "    </tr>\n",
       "    <tr>\n",
       "      <th>455</th>\n",
       "      <td>frozen limas</td>\n",
       "    </tr>\n",
       "    <tr>\n",
       "      <th>456</th>\n",
       "      <td>deli beef</td>\n",
       "    </tr>\n",
       "    <tr>\n",
       "      <th>457</th>\n",
       "      <td>green bell pepper</td>\n",
       "    </tr>\n",
       "    <tr>\n",
       "      <th>458</th>\n",
       "      <td>floured blueberries</td>\n",
       "    </tr>\n",
       "    <tr>\n",
       "      <th>459</th>\n",
       "      <td>caramel sauce</td>\n",
       "    </tr>\n",
       "  </tbody>\n",
       "</table>\n",
       "<p>460 rows × 1 columns</p>\n",
       "</div>"
      ],
      "text/plain": [
       "                    Name\n",
       "0            brown sugar\n",
       "1                   milk\n",
       "2                vanilla\n",
       "3                   nuts\n",
       "4                 butter\n",
       "..                   ...\n",
       "455         frozen limas\n",
       "456            deli beef\n",
       "457    green bell pepper\n",
       "458  floured blueberries\n",
       "459        caramel sauce\n",
       "\n",
       "[460 rows x 1 columns]"
      ]
     },
     "execution_count": 1,
     "metadata": {},
     "output_type": "execute_result"
    }
   ],
   "source": [
    "# Load Ingredients\n",
    "import pandas as pd\n",
    "# insert data from csv file into dataframe.\n",
    "# working directory for csv file: type \"pwd\" in Azure Data Studio or Linux\n",
    "# working directory in Windows c:\\users\\username\n",
    "df = pd.read_csv(\"~/Desktop/DatabaseProject/Ingredients.csv\")\n",
    "df"
   ]
  },
  {
   "cell_type": "code",
   "execution_count": 4,
   "metadata": {},
   "outputs": [],
   "source": [
    "import pymssql\n"
   ]
  },
  {
   "cell_type": "code",
   "execution_count": 17,
   "metadata": {},
   "outputs": [],
   "source": [
    "from os import getenv\n",
    "\n",
    "# Some other texample server values are\n",
    "# server = 'localhost\\sqlexpress' # for a named instance\n",
    "# server = 'myserver,port' # to specify an alternate port\n",
    "\n",
    "cnxn = pymssql.connect(server='localhost', user='sa', password='bigStrongPwd1107@', database='CIS560Project')\n",
    "cursor = cnxn.cursor(as_dict=True)\n",
    "# Insert Dataframe into SQL Server:\n",
    "for index, row in df.iterrows():\n",
    "     cursor.execute(\"INSERT INTO Data.Ingredient (Name) values(%s)\", row.Name)\n",
    "cnxn.commit()\n",
    "cursor.close()"
   ]
  },
  {
   "cell_type": "markdown",
   "metadata": {},
   "source": [
    "# Load Ingredients and Amounts for DB"
   ]
  },
  {
   "cell_type": "code",
   "execution_count": null,
   "metadata": {},
   "outputs": [],
   "source": [
    "full = pd.read_csv(\"~/Desktop/DatabaseProject/RecipeNLG_dataset_small.csv\")\n",
    "full\n",
    "\n",
    "for recipe in full.ingredients:\n",
    "    ingredients = recipe.split(\"',\")\n",
    "    print(recipe)\n",
    "    #print(ingredients)\n",
    "    for j in ingredients:\n",
    "        #split the ingredient into its components\n",
    "        j = j.split(\",\")\n",
    "        #j =  [j+\".\" for j in j.split(\".\") if j]\n",
    "        #print(j)"
   ]
  },
  {
   "cell_type": "code",
   "execution_count": 70,
   "metadata": {},
   "outputs": [
    {
     "name": "stdout",
     "output_type": "stream",
     "text": [
      "[[['1 c', 'firmly packed brown sugar'], ['1/2 c', 'evaporated milk'], ['1/2 tsp', 'vanilla'], ['1/2 c', 'broken nuts (pecans)'], ['2 Tbsp', 'butter or margarine'], ['3 1/2 c', 'bite size shredded rice biscuits']], [['1 small jar chipped beef'], ['4 boned chicken breasts'], ['1 can cream of mushroom soup'], ['1 carton sour cream']], [['2 (16 oz.) pkg', 'frozen corn'], ['1 (8 oz.) pkg', 'cream cheese'], ['1/3 c', 'butter'], ['1/2 tsp', 'garlic powder'], ['1/2 tsp', 'salt'], ['1/4 tsp', 'pepper']], [['1 large whole chicken'], ['2 (10 1/2 oz.) cans chicken gravy'], ['1 (10 1/2 oz.) can cream of mushroom soup'], ['1 (6 oz.) box Stove Top stuffing'], ['4 oz', 'shredded cheese']]]\n"
     ]
    }
   ],
   "source": [
    "recipes = []\n",
    "for recipe in full.ingredients[:4]:\n",
    "    recipe = recipe[1:-1]\n",
    "    recipe = recipe.split(\", \")\n",
    "    ingredients = []\n",
    "    ingredientsplit = []\n",
    "    for ingredient in recipe:\n",
    "        if ingredient[0] in \"0123456789\":\n",
    "            ingredientsplit = ingredient.split('. ')\n",
    "            ingredients.append(ingredientsplit)\n",
    "       \n",
    "    recipes.append(ingredients)\n",
    "print(recipes)\n",
    "\n"
   ]
  },
  {
   "cell_type": "code",
   "execution_count": 35,
   "metadata": {},
   "outputs": [
    {
     "name": "stdout",
     "output_type": "stream",
     "text": [
      "                                        title  \\\n",
      "0                         No-Bake Nut Cookies   \n",
      "1                       Jewell Ball'S Chicken   \n",
      "2                                 Creamy Corn   \n",
      "3                               Chicken Funny   \n",
      "4                        Reeses Cups(Candy)     \n",
      "..                                        ...   \n",
      "245                         Marinated Carrots   \n",
      "246                            Blueberry Cake   \n",
      "247                   Summer Squash Casserole   \n",
      "248                                 Skor Cake   \n",
      "249  Never Fail Pie Crust(Double Pie Crust)     \n",
      "\n",
      "                                           ingredients  \\\n",
      "0    [1 c. firmly packed brown sugar, 1/2 c. evapor...   \n",
      "1    [1 small jar chipped beef, cut up, 4 boned chi...   \n",
      "2    [2 (16 oz.) pkg. frozen corn, 1 (8 oz.) pkg. c...   \n",
      "3    [1 large whole chicken, 2 (10 1/2 oz.) cans ch...   \n",
      "4    [1 c. peanut butter, 3/4 c. graham cracker cru...   \n",
      "..                                                 ...   \n",
      "245  [2 lb. carrots, cut in diagonal slices, 1 larg...   \n",
      "246  [4 eggs, separated, 2 c. sugar, 1 c. shortenin...   \n",
      "247  [6 c. sliced yellow squash, 1 c. finely choppe...   \n",
      "248  [1 box German chocolate cake mix, 1 can Eagle ...   \n",
      "249  [4 c. sifted flour, 1 1/2 c. shortening, 1 egg...   \n",
      "\n",
      "                                            directions  \\\n",
      "0    In a heavy 2-quart saucepan, mix brown sugar, ...   \n",
      "1    Place chipped beef on bottom of baking dish.\\n...   \n",
      "2    In a slow cooker, combine all ingredients. Cov...   \n",
      "3    Boil and debone chicken.\\n Put bite size piece...   \n",
      "4    Combine first four ingredients and press in 13...   \n",
      "..                                                 ...   \n",
      "245  Wash and scrape carrots. Cut in diagonal slice...   \n",
      "246  Beat egg whites until stiff; add 1 cup sugar.\\...   \n",
      "247  Cook squash and onion (in pot with just enough...   \n",
      "248  Make cake according to directions on box and b...   \n",
      "249  Combine flour, sugar and salt.\\n Put shortenin...   \n",
      "\n",
      "                                                   NER  \n",
      "0    [\"brown sugar\", \"milk\", \"vanilla\", \"nuts\", \"bu...  \n",
      "1    [\"beef\", \"chicken breasts\", \"cream of mushroom...  \n",
      "2    [\"frozen corn\", \"cream cheese\", \"butter\", \"gar...  \n",
      "3    [\"chicken\", \"chicken gravy\", \"cream of mushroo...  \n",
      "4    [\"peanut butter\", \"graham cracker crumbs\", \"bu...  \n",
      "..                                                 ...  \n",
      "245  [\"carrots\", \"onion\", \"tomato soup\", \"salt\", \"p...  \n",
      "246  [\"eggs\", \"sugar\", \"shortening\", \"salt\", \"bakin...  \n",
      "247  [\"onion\", \"cream of chicken soup\", \"sour cream...  \n",
      "248        [\"chocolate cake\", \"milk\", \"caramel sauce\"]  \n",
      "249  [\"flour\", \"shortening\", \"egg\", \"water\", \"vineg...  \n",
      "\n",
      "[250 rows x 4 columns]\n"
     ]
    }
   ],
   "source": [
    "print(full)"
   ]
  },
  {
   "cell_type": "code",
   "execution_count": null,
   "metadata": {},
   "outputs": [],
   "source": []
  }
 ],
 "metadata": {
  "interpreter": {
   "hash": "8be6b974fbd389c403f8e9e8116d8c7bb5af760ef0b2dd11deddd1d9d12f6afb"
  },
  "kernelspec": {
   "display_name": "Python 3.8.13 ('base')",
   "language": "python",
   "name": "python3"
  },
  "language_info": {
   "codemirror_mode": {
    "name": "ipython",
    "version": 3
   },
   "file_extension": ".py",
   "mimetype": "text/x-python",
   "name": "python",
   "nbconvert_exporter": "python",
   "pygments_lexer": "ipython3",
   "version": "3.8.13"
  },
  "orig_nbformat": 4
 },
 "nbformat": 4,
 "nbformat_minor": 2
}
